{
 "cells": [
  {
   "cell_type": "code",
   "execution_count": 1,
   "id": "e76c31a4",
   "metadata": {
    "_cell_guid": "b1076dfc-b9ad-4769-8c92-a6c4dae69d19",
    "_uuid": "8f2839f25d086af736a60e9eeb907d3b93b6e0e5",
    "execution": {
     "iopub.execute_input": "2025-04-16T08:48:32.510339Z",
     "iopub.status.busy": "2025-04-16T08:48:32.510005Z",
     "iopub.status.idle": "2025-04-16T08:48:37.202049Z",
     "shell.execute_reply": "2025-04-16T08:48:37.200707Z"
    },
    "papermill": {
     "duration": 4.699825,
     "end_time": "2025-04-16T08:48:37.203830",
     "exception": false,
     "start_time": "2025-04-16T08:48:32.504005",
     "status": "completed"
    },
    "tags": []
   },
   "outputs": [],
   "source": [
    "# 1. Import Required Libraries\n",
    "\n",
    "# Data manipulation and analysis\n",
    "import pandas as pd                    # For loading and handling datasets\n",
    "import numpy as np                     # For numerical operations and array handling\n",
    "\n",
    "# Data visualization\n",
    "import matplotlib.pyplot as plt        # For basic plotting\n",
    "import seaborn as sns                  # For advanced and styled visualizations\n",
    "\n",
    "# Preprocessing\n",
    "from sklearn.preprocessing import StandardScaler  # For feature scaling\n",
    "\n",
    "# Model building\n",
    "from sklearn.linear_model import LogisticRegression  # For logistic regression model\n",
    "\n",
    "# Model evaluation\n",
    "from sklearn.model_selection import train_test_split        # For splitting data into training and testing sets\n",
    "from sklearn.metrics import classification_report           # For detailed classification metrics\n",
    "from sklearn.metrics import confusion_matrix                # For computing confusion matrix\n",
    "from sklearn.metrics import accuracy_score                  # For calculating prediction accuracy\n",
    "from sklearn.metrics import roc_curve, roc_auc_score        # For ROC curve and AUC score evaluation"
   ]
  },
  {
   "cell_type": "code",
   "execution_count": 2,
   "id": "7ff22b0d",
   "metadata": {
    "execution": {
     "iopub.execute_input": "2025-04-16T08:48:37.213733Z",
     "iopub.status.busy": "2025-04-16T08:48:37.213270Z",
     "iopub.status.idle": "2025-04-16T08:48:37.242034Z",
     "shell.execute_reply": "2025-04-16T08:48:37.240978Z"
    },
    "papermill": {
     "duration": 0.035691,
     "end_time": "2025-04-16T08:48:37.243898",
     "exception": false,
     "start_time": "2025-04-16T08:48:37.208207",
     "status": "completed"
    },
    "tags": []
   },
   "outputs": [],
   "source": [
    "# 2. Load the Dataset\n",
    "\n",
    "# Read the dataset from the given CSV file path and store it in a pandas DataFrame\n",
    "df = pd.read_csv(\"../input/data.csv\")"
   ]
  },
  {
   "cell_type": "code",
   "execution_count": 3,
   "id": "15247fd9",
   "metadata": {
    "execution": {
     "iopub.execute_input": "2025-04-16T08:48:37.253405Z",
     "iopub.status.busy": "2025-04-16T08:48:37.253109Z",
     "iopub.status.idle": "2025-04-16T08:48:37.267032Z",
     "shell.execute_reply": "2025-04-16T08:48:37.266035Z"
    },
    "papermill": {
     "duration": 0.020359,
     "end_time": "2025-04-16T08:48:37.268546",
     "exception": false,
     "start_time": "2025-04-16T08:48:37.248187",
     "status": "completed"
    },
    "tags": []
   },
   "outputs": [
    {
     "data": {
      "text/plain": [
       "id                           int64\n",
       "diagnosis                   object\n",
       "radius_mean                float64\n",
       "texture_mean               float64\n",
       "perimeter_mean             float64\n",
       "area_mean                  float64\n",
       "smoothness_mean            float64\n",
       "compactness_mean           float64\n",
       "concavity_mean             float64\n",
       "concave points_mean        float64\n",
       "symmetry_mean              float64\n",
       "fractal_dimension_mean     float64\n",
       "radius_se                  float64\n",
       "texture_se                 float64\n",
       "perimeter_se               float64\n",
       "area_se                    float64\n",
       "smoothness_se              float64\n",
       "compactness_se             float64\n",
       "concavity_se               float64\n",
       "concave points_se          float64\n",
       "symmetry_se                float64\n",
       "fractal_dimension_se       float64\n",
       "radius_worst               float64\n",
       "texture_worst              float64\n",
       "perimeter_worst            float64\n",
       "area_worst                 float64\n",
       "smoothness_worst           float64\n",
       "compactness_worst          float64\n",
       "concavity_worst            float64\n",
       "concave points_worst       float64\n",
       "symmetry_worst             float64\n",
       "fractal_dimension_worst    float64\n",
       "Unnamed: 32                float64\n",
       "dtype: object"
      ]
     },
     "execution_count": 3,
     "metadata": {},
     "output_type": "execute_result"
    }
   ],
   "source": [
    "# 3. Check Data Types\n",
    "\n",
    "# Display the data type of each column in the dataset\n",
    "# This helps identify numerical, categorical, or object-type features\n",
    "df.dtypes"
   ]
  },
  {
   "cell_type": "code",
   "execution_count": 4,
   "id": "6b40815a",
   "metadata": {
    "execution": {
     "iopub.execute_input": "2025-04-16T08:48:37.278300Z",
     "iopub.status.busy": "2025-04-16T08:48:37.277948Z",
     "iopub.status.idle": "2025-04-16T08:48:37.287050Z",
     "shell.execute_reply": "2025-04-16T08:48:37.286004Z"
    },
    "papermill": {
     "duration": 0.015778,
     "end_time": "2025-04-16T08:48:37.288636",
     "exception": false,
     "start_time": "2025-04-16T08:48:37.272858",
     "status": "completed"
    },
    "tags": []
   },
   "outputs": [
    {
     "name": "stdout",
     "output_type": "stream",
     "text": [
      "[nan]\n"
     ]
    }
   ],
   "source": [
    "# 4. Inspect Unnamed Column Values\n",
    "\n",
    "# Print the unique values in the 'Unnamed: 32' column\n",
    "# This helps check whether the column contains only NaN or irrelevant data\n",
    "print(df[\"Unnamed: 32\"].unique())"
   ]
  },
  {
   "cell_type": "code",
   "execution_count": 5,
   "id": "fa0581cb",
   "metadata": {
    "execution": {
     "iopub.execute_input": "2025-04-16T08:48:37.298447Z",
     "iopub.status.busy": "2025-04-16T08:48:37.298137Z",
     "iopub.status.idle": "2025-04-16T08:48:37.309910Z",
     "shell.execute_reply": "2025-04-16T08:48:37.308929Z"
    },
    "papermill": {
     "duration": 0.018464,
     "end_time": "2025-04-16T08:48:37.311555",
     "exception": false,
     "start_time": "2025-04-16T08:48:37.293091",
     "status": "completed"
    },
    "tags": []
   },
   "outputs": [],
   "source": [
    "# 5. Clean the Data and Remove Unnecessary Columns\n",
    "\n",
    "# Drop the 'id' and 'Unnamed: 32' columns from the DataFrame\n",
    "# 'id' is just an identifier and not useful for prediction\n",
    "# 'Unnamed: 32' contains only NaN values and adds no value\n",
    "# 'inplace=True' applies the change directly to the original DataFrame\n",
    "# 'errors=\"ignore\"' prevents errors if one of the columns is not found\n",
    "df.drop(columns=[\"id\", \"Unnamed: 32\"], inplace=True, errors=\"ignore\")"
   ]
  },
  {
   "cell_type": "code",
   "execution_count": 6,
   "id": "3163f2fa",
   "metadata": {
    "execution": {
     "iopub.execute_input": "2025-04-16T08:48:37.321588Z",
     "iopub.status.busy": "2025-04-16T08:48:37.320955Z",
     "iopub.status.idle": "2025-04-16T08:48:37.327295Z",
     "shell.execute_reply": "2025-04-16T08:48:37.326396Z"
    },
    "papermill": {
     "duration": 0.012889,
     "end_time": "2025-04-16T08:48:37.328833",
     "exception": false,
     "start_time": "2025-04-16T08:48:37.315944",
     "status": "completed"
    },
    "tags": []
   },
   "outputs": [],
   "source": [
    "# 6. Encode the Target Variable\n",
    "\n",
    "# Convert the 'diagnosis' column from categorical to numerical:\n",
    "# 'M' (Malignant) becomes 1, and 'B' (Benign) becomes 0\n",
    "# This encoding is necessary for training the machine learning model\n",
    "df[\"diagnosis\"] = df[\"diagnosis\"].map({'M': 1, 'B': 0})"
   ]
  },
  {
   "cell_type": "code",
   "execution_count": 7,
   "id": "69e4fe15",
   "metadata": {
    "execution": {
     "iopub.execute_input": "2025-04-16T08:48:37.339118Z",
     "iopub.status.busy": "2025-04-16T08:48:37.338172Z",
     "iopub.status.idle": "2025-04-16T08:48:37.374189Z",
     "shell.execute_reply": "2025-04-16T08:48:37.373208Z"
    },
    "papermill": {
     "duration": 0.042686,
     "end_time": "2025-04-16T08:48:37.375889",
     "exception": false,
     "start_time": "2025-04-16T08:48:37.333203",
     "status": "completed"
    },
    "tags": []
   },
   "outputs": [
    {
     "data": {
      "text/html": [
       "<div>\n",
       "<style scoped>\n",
       "    .dataframe tbody tr th:only-of-type {\n",
       "        vertical-align: middle;\n",
       "    }\n",
       "\n",
       "    .dataframe tbody tr th {\n",
       "        vertical-align: top;\n",
       "    }\n",
       "\n",
       "    .dataframe thead th {\n",
       "        text-align: right;\n",
       "    }\n",
       "</style>\n",
       "<table border=\"1\" class=\"dataframe\">\n",
       "  <thead>\n",
       "    <tr style=\"text-align: right;\">\n",
       "      <th></th>\n",
       "      <th>diagnosis</th>\n",
       "      <th>radius_mean</th>\n",
       "      <th>texture_mean</th>\n",
       "      <th>perimeter_mean</th>\n",
       "      <th>area_mean</th>\n",
       "      <th>smoothness_mean</th>\n",
       "      <th>compactness_mean</th>\n",
       "      <th>concavity_mean</th>\n",
       "      <th>concave points_mean</th>\n",
       "      <th>symmetry_mean</th>\n",
       "      <th>...</th>\n",
       "      <th>radius_worst</th>\n",
       "      <th>texture_worst</th>\n",
       "      <th>perimeter_worst</th>\n",
       "      <th>area_worst</th>\n",
       "      <th>smoothness_worst</th>\n",
       "      <th>compactness_worst</th>\n",
       "      <th>concavity_worst</th>\n",
       "      <th>concave points_worst</th>\n",
       "      <th>symmetry_worst</th>\n",
       "      <th>fractal_dimension_worst</th>\n",
       "    </tr>\n",
       "  </thead>\n",
       "  <tbody>\n",
       "    <tr>\n",
       "      <th>0</th>\n",
       "      <td>1</td>\n",
       "      <td>17.99</td>\n",
       "      <td>10.38</td>\n",
       "      <td>122.80</td>\n",
       "      <td>1001.0</td>\n",
       "      <td>0.11840</td>\n",
       "      <td>0.27760</td>\n",
       "      <td>0.3001</td>\n",
       "      <td>0.14710</td>\n",
       "      <td>0.2419</td>\n",
       "      <td>...</td>\n",
       "      <td>25.38</td>\n",
       "      <td>17.33</td>\n",
       "      <td>184.60</td>\n",
       "      <td>2019.0</td>\n",
       "      <td>0.1622</td>\n",
       "      <td>0.6656</td>\n",
       "      <td>0.7119</td>\n",
       "      <td>0.2654</td>\n",
       "      <td>0.4601</td>\n",
       "      <td>0.11890</td>\n",
       "    </tr>\n",
       "    <tr>\n",
       "      <th>1</th>\n",
       "      <td>1</td>\n",
       "      <td>20.57</td>\n",
       "      <td>17.77</td>\n",
       "      <td>132.90</td>\n",
       "      <td>1326.0</td>\n",
       "      <td>0.08474</td>\n",
       "      <td>0.07864</td>\n",
       "      <td>0.0869</td>\n",
       "      <td>0.07017</td>\n",
       "      <td>0.1812</td>\n",
       "      <td>...</td>\n",
       "      <td>24.99</td>\n",
       "      <td>23.41</td>\n",
       "      <td>158.80</td>\n",
       "      <td>1956.0</td>\n",
       "      <td>0.1238</td>\n",
       "      <td>0.1866</td>\n",
       "      <td>0.2416</td>\n",
       "      <td>0.1860</td>\n",
       "      <td>0.2750</td>\n",
       "      <td>0.08902</td>\n",
       "    </tr>\n",
       "    <tr>\n",
       "      <th>2</th>\n",
       "      <td>1</td>\n",
       "      <td>19.69</td>\n",
       "      <td>21.25</td>\n",
       "      <td>130.00</td>\n",
       "      <td>1203.0</td>\n",
       "      <td>0.10960</td>\n",
       "      <td>0.15990</td>\n",
       "      <td>0.1974</td>\n",
       "      <td>0.12790</td>\n",
       "      <td>0.2069</td>\n",
       "      <td>...</td>\n",
       "      <td>23.57</td>\n",
       "      <td>25.53</td>\n",
       "      <td>152.50</td>\n",
       "      <td>1709.0</td>\n",
       "      <td>0.1444</td>\n",
       "      <td>0.4245</td>\n",
       "      <td>0.4504</td>\n",
       "      <td>0.2430</td>\n",
       "      <td>0.3613</td>\n",
       "      <td>0.08758</td>\n",
       "    </tr>\n",
       "    <tr>\n",
       "      <th>3</th>\n",
       "      <td>1</td>\n",
       "      <td>11.42</td>\n",
       "      <td>20.38</td>\n",
       "      <td>77.58</td>\n",
       "      <td>386.1</td>\n",
       "      <td>0.14250</td>\n",
       "      <td>0.28390</td>\n",
       "      <td>0.2414</td>\n",
       "      <td>0.10520</td>\n",
       "      <td>0.2597</td>\n",
       "      <td>...</td>\n",
       "      <td>14.91</td>\n",
       "      <td>26.50</td>\n",
       "      <td>98.87</td>\n",
       "      <td>567.7</td>\n",
       "      <td>0.2098</td>\n",
       "      <td>0.8663</td>\n",
       "      <td>0.6869</td>\n",
       "      <td>0.2575</td>\n",
       "      <td>0.6638</td>\n",
       "      <td>0.17300</td>\n",
       "    </tr>\n",
       "    <tr>\n",
       "      <th>4</th>\n",
       "      <td>1</td>\n",
       "      <td>20.29</td>\n",
       "      <td>14.34</td>\n",
       "      <td>135.10</td>\n",
       "      <td>1297.0</td>\n",
       "      <td>0.10030</td>\n",
       "      <td>0.13280</td>\n",
       "      <td>0.1980</td>\n",
       "      <td>0.10430</td>\n",
       "      <td>0.1809</td>\n",
       "      <td>...</td>\n",
       "      <td>22.54</td>\n",
       "      <td>16.67</td>\n",
       "      <td>152.20</td>\n",
       "      <td>1575.0</td>\n",
       "      <td>0.1374</td>\n",
       "      <td>0.2050</td>\n",
       "      <td>0.4000</td>\n",
       "      <td>0.1625</td>\n",
       "      <td>0.2364</td>\n",
       "      <td>0.07678</td>\n",
       "    </tr>\n",
       "  </tbody>\n",
       "</table>\n",
       "<p>5 rows × 31 columns</p>\n",
       "</div>"
      ],
      "text/plain": [
       "   diagnosis  radius_mean  texture_mean  perimeter_mean  area_mean  \\\n",
       "0          1        17.99         10.38          122.80     1001.0   \n",
       "1          1        20.57         17.77          132.90     1326.0   \n",
       "2          1        19.69         21.25          130.00     1203.0   \n",
       "3          1        11.42         20.38           77.58      386.1   \n",
       "4          1        20.29         14.34          135.10     1297.0   \n",
       "\n",
       "   smoothness_mean  compactness_mean  concavity_mean  concave points_mean  \\\n",
       "0          0.11840           0.27760          0.3001              0.14710   \n",
       "1          0.08474           0.07864          0.0869              0.07017   \n",
       "2          0.10960           0.15990          0.1974              0.12790   \n",
       "3          0.14250           0.28390          0.2414              0.10520   \n",
       "4          0.10030           0.13280          0.1980              0.10430   \n",
       "\n",
       "   symmetry_mean  ...  radius_worst  texture_worst  perimeter_worst  \\\n",
       "0         0.2419  ...         25.38          17.33           184.60   \n",
       "1         0.1812  ...         24.99          23.41           158.80   \n",
       "2         0.2069  ...         23.57          25.53           152.50   \n",
       "3         0.2597  ...         14.91          26.50            98.87   \n",
       "4         0.1809  ...         22.54          16.67           152.20   \n",
       "\n",
       "   area_worst  smoothness_worst  compactness_worst  concavity_worst  \\\n",
       "0      2019.0            0.1622             0.6656           0.7119   \n",
       "1      1956.0            0.1238             0.1866           0.2416   \n",
       "2      1709.0            0.1444             0.4245           0.4504   \n",
       "3       567.7            0.2098             0.8663           0.6869   \n",
       "4      1575.0            0.1374             0.2050           0.4000   \n",
       "\n",
       "   concave points_worst  symmetry_worst  fractal_dimension_worst  \n",
       "0                0.2654          0.4601                  0.11890  \n",
       "1                0.1860          0.2750                  0.08902  \n",
       "2                0.2430          0.3613                  0.08758  \n",
       "3                0.2575          0.6638                  0.17300  \n",
       "4                0.1625          0.2364                  0.07678  \n",
       "\n",
       "[5 rows x 31 columns]"
      ]
     },
     "execution_count": 7,
     "metadata": {},
     "output_type": "execute_result"
    }
   ],
   "source": [
    "# Display the first 5 rows of the dataframe\n",
    "df.head() "
   ]
  },
  {
   "cell_type": "code",
   "execution_count": 8,
   "id": "4188eb11",
   "metadata": {
    "execution": {
     "iopub.execute_input": "2025-04-16T08:48:37.386298Z",
     "iopub.status.busy": "2025-04-16T08:48:37.385952Z",
     "iopub.status.idle": "2025-04-16T08:48:37.408910Z",
     "shell.execute_reply": "2025-04-16T08:48:37.407967Z"
    },
    "papermill": {
     "duration": 0.030163,
     "end_time": "2025-04-16T08:48:37.410643",
     "exception": false,
     "start_time": "2025-04-16T08:48:37.380480",
     "status": "completed"
    },
    "tags": []
   },
   "outputs": [
    {
     "data": {
      "text/html": [
       "<div>\n",
       "<style scoped>\n",
       "    .dataframe tbody tr th:only-of-type {\n",
       "        vertical-align: middle;\n",
       "    }\n",
       "\n",
       "    .dataframe tbody tr th {\n",
       "        vertical-align: top;\n",
       "    }\n",
       "\n",
       "    .dataframe thead th {\n",
       "        text-align: right;\n",
       "    }\n",
       "</style>\n",
       "<table border=\"1\" class=\"dataframe\">\n",
       "  <thead>\n",
       "    <tr style=\"text-align: right;\">\n",
       "      <th></th>\n",
       "      <th>diagnosis</th>\n",
       "      <th>radius_mean</th>\n",
       "      <th>texture_mean</th>\n",
       "      <th>perimeter_mean</th>\n",
       "      <th>area_mean</th>\n",
       "      <th>smoothness_mean</th>\n",
       "      <th>compactness_mean</th>\n",
       "      <th>concavity_mean</th>\n",
       "      <th>concave points_mean</th>\n",
       "      <th>symmetry_mean</th>\n",
       "      <th>...</th>\n",
       "      <th>radius_worst</th>\n",
       "      <th>texture_worst</th>\n",
       "      <th>perimeter_worst</th>\n",
       "      <th>area_worst</th>\n",
       "      <th>smoothness_worst</th>\n",
       "      <th>compactness_worst</th>\n",
       "      <th>concavity_worst</th>\n",
       "      <th>concave points_worst</th>\n",
       "      <th>symmetry_worst</th>\n",
       "      <th>fractal_dimension_worst</th>\n",
       "    </tr>\n",
       "  </thead>\n",
       "  <tbody>\n",
       "    <tr>\n",
       "      <th>564</th>\n",
       "      <td>1</td>\n",
       "      <td>21.56</td>\n",
       "      <td>22.39</td>\n",
       "      <td>142.00</td>\n",
       "      <td>1479.0</td>\n",
       "      <td>0.11100</td>\n",
       "      <td>0.11590</td>\n",
       "      <td>0.24390</td>\n",
       "      <td>0.13890</td>\n",
       "      <td>0.1726</td>\n",
       "      <td>...</td>\n",
       "      <td>25.450</td>\n",
       "      <td>26.40</td>\n",
       "      <td>166.10</td>\n",
       "      <td>2027.0</td>\n",
       "      <td>0.14100</td>\n",
       "      <td>0.21130</td>\n",
       "      <td>0.4107</td>\n",
       "      <td>0.2216</td>\n",
       "      <td>0.2060</td>\n",
       "      <td>0.07115</td>\n",
       "    </tr>\n",
       "    <tr>\n",
       "      <th>565</th>\n",
       "      <td>1</td>\n",
       "      <td>20.13</td>\n",
       "      <td>28.25</td>\n",
       "      <td>131.20</td>\n",
       "      <td>1261.0</td>\n",
       "      <td>0.09780</td>\n",
       "      <td>0.10340</td>\n",
       "      <td>0.14400</td>\n",
       "      <td>0.09791</td>\n",
       "      <td>0.1752</td>\n",
       "      <td>...</td>\n",
       "      <td>23.690</td>\n",
       "      <td>38.25</td>\n",
       "      <td>155.00</td>\n",
       "      <td>1731.0</td>\n",
       "      <td>0.11660</td>\n",
       "      <td>0.19220</td>\n",
       "      <td>0.3215</td>\n",
       "      <td>0.1628</td>\n",
       "      <td>0.2572</td>\n",
       "      <td>0.06637</td>\n",
       "    </tr>\n",
       "    <tr>\n",
       "      <th>566</th>\n",
       "      <td>1</td>\n",
       "      <td>16.60</td>\n",
       "      <td>28.08</td>\n",
       "      <td>108.30</td>\n",
       "      <td>858.1</td>\n",
       "      <td>0.08455</td>\n",
       "      <td>0.10230</td>\n",
       "      <td>0.09251</td>\n",
       "      <td>0.05302</td>\n",
       "      <td>0.1590</td>\n",
       "      <td>...</td>\n",
       "      <td>18.980</td>\n",
       "      <td>34.12</td>\n",
       "      <td>126.70</td>\n",
       "      <td>1124.0</td>\n",
       "      <td>0.11390</td>\n",
       "      <td>0.30940</td>\n",
       "      <td>0.3403</td>\n",
       "      <td>0.1418</td>\n",
       "      <td>0.2218</td>\n",
       "      <td>0.07820</td>\n",
       "    </tr>\n",
       "    <tr>\n",
       "      <th>567</th>\n",
       "      <td>1</td>\n",
       "      <td>20.60</td>\n",
       "      <td>29.33</td>\n",
       "      <td>140.10</td>\n",
       "      <td>1265.0</td>\n",
       "      <td>0.11780</td>\n",
       "      <td>0.27700</td>\n",
       "      <td>0.35140</td>\n",
       "      <td>0.15200</td>\n",
       "      <td>0.2397</td>\n",
       "      <td>...</td>\n",
       "      <td>25.740</td>\n",
       "      <td>39.42</td>\n",
       "      <td>184.60</td>\n",
       "      <td>1821.0</td>\n",
       "      <td>0.16500</td>\n",
       "      <td>0.86810</td>\n",
       "      <td>0.9387</td>\n",
       "      <td>0.2650</td>\n",
       "      <td>0.4087</td>\n",
       "      <td>0.12400</td>\n",
       "    </tr>\n",
       "    <tr>\n",
       "      <th>568</th>\n",
       "      <td>0</td>\n",
       "      <td>7.76</td>\n",
       "      <td>24.54</td>\n",
       "      <td>47.92</td>\n",
       "      <td>181.0</td>\n",
       "      <td>0.05263</td>\n",
       "      <td>0.04362</td>\n",
       "      <td>0.00000</td>\n",
       "      <td>0.00000</td>\n",
       "      <td>0.1587</td>\n",
       "      <td>...</td>\n",
       "      <td>9.456</td>\n",
       "      <td>30.37</td>\n",
       "      <td>59.16</td>\n",
       "      <td>268.6</td>\n",
       "      <td>0.08996</td>\n",
       "      <td>0.06444</td>\n",
       "      <td>0.0000</td>\n",
       "      <td>0.0000</td>\n",
       "      <td>0.2871</td>\n",
       "      <td>0.07039</td>\n",
       "    </tr>\n",
       "  </tbody>\n",
       "</table>\n",
       "<p>5 rows × 31 columns</p>\n",
       "</div>"
      ],
      "text/plain": [
       "     diagnosis  radius_mean  texture_mean  perimeter_mean  area_mean  \\\n",
       "564          1        21.56         22.39          142.00     1479.0   \n",
       "565          1        20.13         28.25          131.20     1261.0   \n",
       "566          1        16.60         28.08          108.30      858.1   \n",
       "567          1        20.60         29.33          140.10     1265.0   \n",
       "568          0         7.76         24.54           47.92      181.0   \n",
       "\n",
       "     smoothness_mean  compactness_mean  concavity_mean  concave points_mean  \\\n",
       "564          0.11100           0.11590         0.24390              0.13890   \n",
       "565          0.09780           0.10340         0.14400              0.09791   \n",
       "566          0.08455           0.10230         0.09251              0.05302   \n",
       "567          0.11780           0.27700         0.35140              0.15200   \n",
       "568          0.05263           0.04362         0.00000              0.00000   \n",
       "\n",
       "     symmetry_mean  ...  radius_worst  texture_worst  perimeter_worst  \\\n",
       "564         0.1726  ...        25.450          26.40           166.10   \n",
       "565         0.1752  ...        23.690          38.25           155.00   \n",
       "566         0.1590  ...        18.980          34.12           126.70   \n",
       "567         0.2397  ...        25.740          39.42           184.60   \n",
       "568         0.1587  ...         9.456          30.37            59.16   \n",
       "\n",
       "     area_worst  smoothness_worst  compactness_worst  concavity_worst  \\\n",
       "564      2027.0           0.14100            0.21130           0.4107   \n",
       "565      1731.0           0.11660            0.19220           0.3215   \n",
       "566      1124.0           0.11390            0.30940           0.3403   \n",
       "567      1821.0           0.16500            0.86810           0.9387   \n",
       "568       268.6           0.08996            0.06444           0.0000   \n",
       "\n",
       "     concave points_worst  symmetry_worst  fractal_dimension_worst  \n",
       "564                0.2216          0.2060                  0.07115  \n",
       "565                0.1628          0.2572                  0.06637  \n",
       "566                0.1418          0.2218                  0.07820  \n",
       "567                0.2650          0.4087                  0.12400  \n",
       "568                0.0000          0.2871                  0.07039  \n",
       "\n",
       "[5 rows x 31 columns]"
      ]
     },
     "execution_count": 8,
     "metadata": {},
     "output_type": "execute_result"
    }
   ],
   "source": [
    "# Display the last 5 rows of the dataframe\n",
    "df.tail() "
   ]
  },
  {
   "cell_type": "code",
   "execution_count": 9,
   "id": "61240367",
   "metadata": {
    "execution": {
     "iopub.execute_input": "2025-04-16T08:48:37.421901Z",
     "iopub.status.busy": "2025-04-16T08:48:37.421561Z",
     "iopub.status.idle": "2025-04-16T08:48:37.427987Z",
     "shell.execute_reply": "2025-04-16T08:48:37.426773Z"
    },
    "papermill": {
     "duration": 0.013762,
     "end_time": "2025-04-16T08:48:37.429709",
     "exception": false,
     "start_time": "2025-04-16T08:48:37.415947",
     "status": "completed"
    },
    "tags": []
   },
   "outputs": [],
   "source": [
    "# 5. Define Features and Target\n",
    "\n",
    "# Features: All columns except the target variable ('diagnosis')\n",
    "X = df.drop(\"diagnosis\", axis=1)  # Removes the 'diagnosis' column from the dataframe, keeping all other columns as features (independent variables)\n",
    "\n",
    "# Target: The column representing the target variable ('diagnosis')\n",
    "y = df[\"diagnosis\"]  # Selects the 'diagnosis' column as the target variable (dependent variable)"
   ]
  },
  {
   "cell_type": "code",
   "execution_count": 10,
   "id": "62a62eab",
   "metadata": {
    "execution": {
     "iopub.execute_input": "2025-04-16T08:48:37.440664Z",
     "iopub.status.busy": "2025-04-16T08:48:37.440338Z",
     "iopub.status.idle": "2025-04-16T08:48:37.467419Z",
     "shell.execute_reply": "2025-04-16T08:48:37.466559Z"
    },
    "papermill": {
     "duration": 0.034676,
     "end_time": "2025-04-16T08:48:37.469243",
     "exception": false,
     "start_time": "2025-04-16T08:48:37.434567",
     "status": "completed"
    },
    "tags": []
   },
   "outputs": [],
   "source": [
    "# 6. Normalize Features\n",
    "\n",
    "# Create an instance of the StandardScaler to standardize the features\n",
    "scaler = StandardScaler()  # StandardScaler standardizes the features by removing the mean and scaling to unit variance.\n",
    "\n",
    "# Apply the scaler to the features (X) and transform them\n",
    "X_scaled = scaler.fit_transform(X)  # Fits the scaler to the features (X) and transforms them into standardized values"
   ]
  },
  {
   "cell_type": "code",
   "execution_count": 11,
   "id": "f44431b2",
   "metadata": {
    "execution": {
     "iopub.execute_input": "2025-04-16T08:48:37.480846Z",
     "iopub.status.busy": "2025-04-16T08:48:37.480487Z",
     "iopub.status.idle": "2025-04-16T08:48:37.487809Z",
     "shell.execute_reply": "2025-04-16T08:48:37.486887Z"
    },
    "papermill": {
     "duration": 0.014984,
     "end_time": "2025-04-16T08:48:37.489673",
     "exception": false,
     "start_time": "2025-04-16T08:48:37.474689",
     "status": "completed"
    },
    "tags": []
   },
   "outputs": [],
   "source": [
    "# 7. Split the Data\n",
    "\n",
    "# Split the dataset into training and testing sets\n",
    "X_train, X_test, y_train, y_test = train_test_split(X_scaled, y, test_size=0.2, random_state=42)  \n",
    "# 'X_scaled' (features) and 'y' (target) are split into training and testing sets\n",
    "# 'test_size=0.2' means 20% of the data will be used for testing and 80% for training\n",
    "# 'random_state=42' ensures reproducibility of the split by setting a fixed seed for randomness"
   ]
  },
  {
   "cell_type": "code",
   "execution_count": 12,
   "id": "dc791d2d",
   "metadata": {
    "execution": {
     "iopub.execute_input": "2025-04-16T08:48:37.500614Z",
     "iopub.status.busy": "2025-04-16T08:48:37.500316Z",
     "iopub.status.idle": "2025-04-16T08:48:37.722256Z",
     "shell.execute_reply": "2025-04-16T08:48:37.719943Z"
    },
    "papermill": {
     "duration": 0.229727,
     "end_time": "2025-04-16T08:48:37.724299",
     "exception": false,
     "start_time": "2025-04-16T08:48:37.494572",
     "status": "completed"
    },
    "tags": []
   },
   "outputs": [
    {
     "data": {
      "text/html": [
       "<style>#sk-container-id-1 {color: black;background-color: white;}#sk-container-id-1 pre{padding: 0;}#sk-container-id-1 div.sk-toggleable {background-color: white;}#sk-container-id-1 label.sk-toggleable__label {cursor: pointer;display: block;width: 100%;margin-bottom: 0;padding: 0.3em;box-sizing: border-box;text-align: center;}#sk-container-id-1 label.sk-toggleable__label-arrow:before {content: \"▸\";float: left;margin-right: 0.25em;color: #696969;}#sk-container-id-1 label.sk-toggleable__label-arrow:hover:before {color: black;}#sk-container-id-1 div.sk-estimator:hover label.sk-toggleable__label-arrow:before {color: black;}#sk-container-id-1 div.sk-toggleable__content {max-height: 0;max-width: 0;overflow: hidden;text-align: left;background-color: #f0f8ff;}#sk-container-id-1 div.sk-toggleable__content pre {margin: 0.2em;color: black;border-radius: 0.25em;background-color: #f0f8ff;}#sk-container-id-1 input.sk-toggleable__control:checked~div.sk-toggleable__content {max-height: 200px;max-width: 100%;overflow: auto;}#sk-container-id-1 input.sk-toggleable__control:checked~label.sk-toggleable__label-arrow:before {content: \"▾\";}#sk-container-id-1 div.sk-estimator input.sk-toggleable__control:checked~label.sk-toggleable__label {background-color: #d4ebff;}#sk-container-id-1 div.sk-label input.sk-toggleable__control:checked~label.sk-toggleable__label {background-color: #d4ebff;}#sk-container-id-1 input.sk-hidden--visually {border: 0;clip: rect(1px 1px 1px 1px);clip: rect(1px, 1px, 1px, 1px);height: 1px;margin: -1px;overflow: hidden;padding: 0;position: absolute;width: 1px;}#sk-container-id-1 div.sk-estimator {font-family: monospace;background-color: #f0f8ff;border: 1px dotted black;border-radius: 0.25em;box-sizing: border-box;margin-bottom: 0.5em;}#sk-container-id-1 div.sk-estimator:hover {background-color: #d4ebff;}#sk-container-id-1 div.sk-parallel-item::after {content: \"\";width: 100%;border-bottom: 1px solid gray;flex-grow: 1;}#sk-container-id-1 div.sk-label:hover label.sk-toggleable__label {background-color: #d4ebff;}#sk-container-id-1 div.sk-serial::before {content: \"\";position: absolute;border-left: 1px solid gray;box-sizing: border-box;top: 0;bottom: 0;left: 50%;z-index: 0;}#sk-container-id-1 div.sk-serial {display: flex;flex-direction: column;align-items: center;background-color: white;padding-right: 0.2em;padding-left: 0.2em;position: relative;}#sk-container-id-1 div.sk-item {position: relative;z-index: 1;}#sk-container-id-1 div.sk-parallel {display: flex;align-items: stretch;justify-content: center;background-color: white;position: relative;}#sk-container-id-1 div.sk-item::before, #sk-container-id-1 div.sk-parallel-item::before {content: \"\";position: absolute;border-left: 1px solid gray;box-sizing: border-box;top: 0;bottom: 0;left: 50%;z-index: -1;}#sk-container-id-1 div.sk-parallel-item {display: flex;flex-direction: column;z-index: 1;position: relative;background-color: white;}#sk-container-id-1 div.sk-parallel-item:first-child::after {align-self: flex-end;width: 50%;}#sk-container-id-1 div.sk-parallel-item:last-child::after {align-self: flex-start;width: 50%;}#sk-container-id-1 div.sk-parallel-item:only-child::after {width: 0;}#sk-container-id-1 div.sk-dashed-wrapped {border: 1px dashed gray;margin: 0 0.4em 0.5em 0.4em;box-sizing: border-box;padding-bottom: 0.4em;background-color: white;}#sk-container-id-1 div.sk-label label {font-family: monospace;font-weight: bold;display: inline-block;line-height: 1.2em;}#sk-container-id-1 div.sk-label-container {text-align: center;}#sk-container-id-1 div.sk-container {/* jupyter's `normalize.less` sets `[hidden] { display: none; }` but bootstrap.min.css set `[hidden] { display: none !important; }` so we also need the `!important` here to be able to override the default hidden behavior on the sphinx rendered scikit-learn.org. See: https://github.com/scikit-learn/scikit-learn/issues/21755 */display: inline-block !important;position: relative;}#sk-container-id-1 div.sk-text-repr-fallback {display: none;}</style><div id=\"sk-container-id-1\" class=\"sk-top-container\"><div class=\"sk-text-repr-fallback\"><pre>LogisticRegression(class_weight=&#x27;balanced&#x27;, max_iter=10000)</pre><b>In a Jupyter environment, please rerun this cell to show the HTML representation or trust the notebook. <br />On GitHub, the HTML representation is unable to render, please try loading this page with nbviewer.org.</b></div><div class=\"sk-container\" hidden><div class=\"sk-item\"><div class=\"sk-estimator sk-toggleable\"><input class=\"sk-toggleable__control sk-hidden--visually\" id=\"sk-estimator-id-1\" type=\"checkbox\" checked><label for=\"sk-estimator-id-1\" class=\"sk-toggleable__label sk-toggleable__label-arrow\">LogisticRegression</label><div class=\"sk-toggleable__content\"><pre>LogisticRegression(class_weight=&#x27;balanced&#x27;, max_iter=10000)</pre></div></div></div></div></div>"
      ],
      "text/plain": [
       "LogisticRegression(class_weight='balanced', max_iter=10000)"
      ]
     },
     "execution_count": 12,
     "metadata": {},
     "output_type": "execute_result"
    }
   ],
   "source": [
    "# 8. Train the Logistic Regression Model\n",
    "\n",
    "# Initialize the Logistic Regression model with specified parameters\n",
    "model = LogisticRegression(max_iter=10000, class_weight='balanced')  \n",
    "# 'max_iter=10000' increases the maximum number of iterations to 10,000 to ensure the model converges during training\n",
    "# 'class_weight='balanced'' adjusts weights inversely proportional to class frequencies to handle imbalanced datasets\n",
    "\n",
    "# Train the model using the training data (X_train and y_train)\n",
    "model.fit(X_train, y_train)  # Fits the Logistic Regression model to the training data (features and target)"
   ]
  },
  {
   "cell_type": "code",
   "execution_count": 13,
   "id": "b1503411",
   "metadata": {
    "execution": {
     "iopub.execute_input": "2025-04-16T08:48:37.744432Z",
     "iopub.status.busy": "2025-04-16T08:48:37.742734Z",
     "iopub.status.idle": "2025-04-16T08:48:38.114172Z",
     "shell.execute_reply": "2025-04-16T08:48:38.113079Z"
    },
    "papermill": {
     "duration": 0.383334,
     "end_time": "2025-04-16T08:48:38.115893",
     "exception": false,
     "start_time": "2025-04-16T08:48:37.732559",
     "status": "completed"
    },
    "tags": []
   },
   "outputs": [
    {
     "data": {
      "image/png": "[encoded data removed]",
      "text/plain": [
       "<Figure size 1000x600 with 1 Axes>"
      ]
     },
     "metadata": {},
     "output_type": "display_data"
    }
   ],
   "source": [
    "# 9. Visualize the Sigmoid Curve on One Feature (e.g., 'mean radius') with a Threshold\n",
    "\n",
    "# Set the classification threshold (commonly 0.5)\n",
    "threshold = 0.5\n",
    "\n",
    "# Select the feature index and get the feature name\n",
    "feature_index = 1  # For example: 1 corresponds to 'mean radius'\n",
    "feature_name = df.columns[feature_index]  # Get the actual column name\n",
    "\n",
    "# Generate a range of standardized values for the selected feature\n",
    "z = np.linspace(X_scaled[:, feature_index].min(), X_scaled[:, feature_index].max(), 100)\n",
    "# 'z' contains 100 evenly spaced values between min and max of the standardized selected feature\n",
    "\n",
    "# Create a dummy input array (100 samples, all features zeroed out)\n",
    "X_dummy = np.zeros((100, X.shape[1]))\n",
    "# This simulates 100 samples where all features are set to 0 (i.e., their mean after standardization)\n",
    "\n",
    "# Replace only the selected feature column with the values in 'z'\n",
    "X_dummy[:, feature_index] = z\n",
    "# This isolates the effect of the selected feature while keeping all others constant\n",
    "\n",
    "# Predict the probability of class 1 (Malignant) using the logistic regression model\n",
    "probabilities = model.predict_proba(X_dummy)[:, 1]\n",
    "# 'predict_proba' returns [P(class 0), P(class 1)], we take only P(class 1)\n",
    "\n",
    "# Find the point where the predicted probability crosses the threshold\n",
    "threshold_index = np.argmin(np.abs(probabilities - threshold))  # Find the closest index\n",
    "cut_value = z[threshold_index]           # Value of the feature at that index\n",
    "cut_prob = probabilities[threshold_index]  # Probability at the threshold cut\n",
    "\n",
    "# --- Plotting the Sigmoid Curve and the Threshold Line ---\n",
    "\n",
    "plt.figure(figsize=(10, 6))  # Set figure size\n",
    "\n",
    "# Plot the sigmoid curve (P(class 1) vs standardized feature)\n",
    "plt.plot(z, probabilities, label=f\"Sigmoid Curve on '{feature_name}'\", color='green')\n",
    "\n",
    "# Plot horizontal threshold line (e.g., y = 0.5)\n",
    "plt.axhline(y=threshold, color='red', linestyle='--', label=f\"Threshold = {threshold}\")\n",
    "\n",
    "# Plot vertical line at the cut value (feature value that hits the threshold)\n",
    "plt.axvline(x=cut_value, color='blue', linestyle='--', label=f\"Cutoff at {cut_value:.2f}\")\n",
    "\n",
    "# Mark the exact point of intersection\n",
    "plt.plot(cut_value, cut_prob, 'ro')  # red dot\n",
    "\n",
    "# Add plot title and axis labels\n",
    "plt.title(\"Logistic Regression Sigmoid Output with Decision Threshold\")\n",
    "plt.xlabel(f\"Standardized '{feature_name}' value\")\n",
    "plt.ylabel(\"Predicted Probability (Malignant)\")\n",
    "\n",
    "# Add grid and legend for clarity\n",
    "plt.grid(True)\n",
    "plt.legend()\n",
    "\n",
    "# Show the final plot\n",
    "plt.show()"
   ]
  },
  {
   "cell_type": "code",
   "execution_count": 14,
   "id": "dd6814e8",
   "metadata": {
    "execution": {
     "iopub.execute_input": "2025-04-16T08:48:38.129641Z",
     "iopub.status.busy": "2025-04-16T08:48:38.129336Z",
     "iopub.status.idle": "2025-04-16T08:48:38.148602Z",
     "shell.execute_reply": "2025-04-16T08:48:38.147450Z"
    },
    "papermill": {
     "duration": 0.028015,
     "end_time": "2025-04-16T08:48:38.150287",
     "exception": false,
     "start_time": "2025-04-16T08:48:38.122272",
     "status": "completed"
    },
    "tags": []
   },
   "outputs": [
    {
     "name": "stdout",
     "output_type": "stream",
     "text": [
      "Accuracy: 0.9824561403508771\n",
      "\n",
      "Confusion Matrix:\n",
      " [[70  1]\n",
      " [ 1 42]]\n",
      "\n",
      "Classification Report:\n",
      "               precision    recall  f1-score   support\n",
      "\n",
      "           0       0.99      0.99      0.99        71\n",
      "           1       0.98      0.98      0.98        43\n",
      "\n",
      "    accuracy                           0.98       114\n",
      "   macro avg       0.98      0.98      0.98       114\n",
      "weighted avg       0.98      0.98      0.98       114\n",
      "\n"
     ]
    }
   ],
   "source": [
    "# 7. Make Predictions\n",
    "\n",
    "# Use the trained logistic regression model to predict the class labels on the test data\n",
    "y_pred = model.predict(X_test)  \n",
    "# 'predict' returns binary class predictions:\n",
    "# - 1 for Malignant\n",
    "# - 0 for Benign\n",
    "# The predictions are made based on the learned decision boundary from training\n",
    "\n",
    "# 8. Evaluate the Model\n",
    "\n",
    "# Print the overall accuracy of the model on the test set\n",
    "print(\"Accuracy:\", accuracy_score(y_test, y_pred))  \n",
    "# 'accuracy_score' computes the ratio of correct predictions to total predictions\n",
    "\n",
    "# Print the confusion matrix to understand prediction breakdown\n",
    "print(\"\\nConfusion Matrix:\\n\", confusion_matrix(y_test, y_pred))  \n",
    "# The confusion matrix shows:\n",
    "# - True Negatives (TN)\n",
    "# - False Positives (FP)\n",
    "# - False Negatives (FN)\n",
    "# - True Positives (TP)\n",
    "\n",
    "# Print precision, recall, f1-score, and support for each class\n",
    "print(\"\\nClassification Report:\\n\", classification_report(y_test, y_pred))  \n",
    "# This report includes:\n",
    "# - Precision: Correct positive predictions out of all predicted positives\n",
    "# - Recall: Correct positive predictions out of all actual positives\n",
    "# - F1-score: Harmonic mean of precision and recall\n",
    "# - Support: Number of actual instances for each class"
   ]
  },
  {
   "cell_type": "code",
   "execution_count": 15,
   "id": "1dd46002",
   "metadata": {
    "execution": {
     "iopub.execute_input": "2025-04-16T08:48:38.164226Z",
     "iopub.status.busy": "2025-04-16T08:48:38.163907Z",
     "iopub.status.idle": "2025-04-16T08:48:38.357181Z",
     "shell.execute_reply": "2025-04-16T08:48:38.356138Z"
    },
    "papermill": {
     "duration": 0.202534,
     "end_time": "2025-04-16T08:48:38.359174",
     "exception": false,
     "start_time": "2025-04-16T08:48:38.156640",
     "status": "completed"
    },
    "tags": []
   },
   "outputs": [
    {
     "data": {
      "image/png": "[encoded data removed]",
      "text/plain": [
       "<Figure size 600x400 with 2 Axes>"
      ]
     },
     "metadata": {},
     "output_type": "display_data"
    }
   ],
   "source": [
    "# Visualize the confusion matrix using a heatmap\n",
    "\n",
    "# Create a new figure with specified size\n",
    "plt.figure(figsize=(6,4))  \n",
    "# This sets the size of the plot to 6 inches wide and 4 inches tall\n",
    "\n",
    "# Create a heatmap of the confusion matrix with annotations\n",
    "sns.heatmap(confusion_matrix(y_test, y_pred), annot=True, fmt='d', cmap='Blues')  \n",
    "# 'confusion_matrix(y_test, y_pred)' computes the confusion matrix\n",
    "# 'annot=True' displays the numbers inside the cells\n",
    "# 'fmt=\"d\"' formats the annotations as integers\n",
    "# 'cmap=\"Blues\"' sets the color theme of the heatmap to blue shades\n",
    "\n",
    "# Set the title of the plot\n",
    "plt.title(\"Confusion Matrix\")  \n",
    "\n",
    "# Label the x-axis as \"Predicted\"\n",
    "plt.xlabel(\"Predicted\")  \n",
    "\n",
    "# Label the y-axis as \"Actual\"\n",
    "plt.ylabel(\"Actual\")  \n",
    "\n",
    "# Show the plot\n",
    "plt.show()  "
   ]
  },
  {
   "cell_type": "code",
   "execution_count": 16,
   "id": "021650fb",
   "metadata": {
    "execution": {
     "iopub.execute_input": "2025-04-16T08:48:38.374104Z",
     "iopub.status.busy": "2025-04-16T08:48:38.373718Z",
     "iopub.status.idle": "2025-04-16T08:48:38.381136Z",
     "shell.execute_reply": "2025-04-16T08:48:38.380106Z"
    },
    "papermill": {
     "duration": 0.016615,
     "end_time": "2025-04-16T08:48:38.382696",
     "exception": false,
     "start_time": "2025-04-16T08:48:38.366081",
     "status": "completed"
    },
    "tags": []
   },
   "outputs": [],
   "source": [
    "# Get the predicted probabilities\n",
    "\n",
    "# Predict the probability that each test sample belongs to the positive class (Malignant)\n",
    "y_proba = model.predict_proba(X_test)[:, 1]  \n",
    "# 'predict_proba' returns an array with two columns:\n",
    "# - [:, 0] is the probability for class 0 (Benign)\n",
    "# - [:, 1] is the probability for class 1 (Malignant)\n",
    "# We select only column 1 to get the probability of malignancy\n",
    "# Compute ROC curve values\n",
    "\n",
    "# Calculate the False Positive Rate (fpr), True Positive Rate (tpr), and decision thresholds\n",
    "fpr, tpr, thresholds = roc_curve(y_test, y_proba)  \n",
    "# 'y_test' contains the true class labels\n",
    "# 'y_proba' contains the predicted probabilities for the positive class (Malignant)\n",
    "# 'roc_curve' computes:\n",
    "# - fpr: proportion of actual negatives incorrectly classified as positives\n",
    "# - tpr: proportion of actual positives correctly classified\n",
    "# - thresholds: decision boundary values used to compute fpr and tpr at different points"
   ]
  },
  {
   "cell_type": "code",
   "execution_count": 17,
   "id": "fdb060ea",
   "metadata": {
    "execution": {
     "iopub.execute_input": "2025-04-16T08:48:38.397031Z",
     "iopub.status.busy": "2025-04-16T08:48:38.396685Z",
     "iopub.status.idle": "2025-04-16T08:48:38.596389Z",
     "shell.execute_reply": "2025-04-16T08:48:38.595289Z"
    },
    "papermill": {
     "duration": 0.208872,
     "end_time": "2025-04-16T08:48:38.598146",
     "exception": false,
     "start_time": "2025-04-16T08:48:38.389274",
     "status": "completed"
    },
    "tags": []
   },
   "outputs": [
    {
     "data": {
      "image/png": "[encoded data removed]",
      "text/plain": [
       "<Figure size 600x400 with 1 Axes>"
      ]
     },
     "metadata": {},
     "output_type": "display_data"
    }
   ],
   "source": [
    "# Plot the ROC Curve\n",
    "\n",
    "# Create a new figure with defined size\n",
    "plt.figure(figsize=(6,4))  \n",
    "# Sets the plot size to 6 inches wide by 4 inches tall\n",
    "\n",
    "# Plot the ROC curve (TPR vs. FPR) with the AUC score in the label\n",
    "plt.plot(fpr, tpr, label=f'AUC = {roc_auc_score(y_test, y_proba):.2f}')  \n",
    "# 'fpr' and 'tpr' define the ROC curve\n",
    "# 'roc_auc_score' computes the area under the ROC curve (AUC)\n",
    "# The AUC score is added to the plot legend for reference\n",
    "\n",
    "# Plot a diagonal reference line (baseline for a random model)\n",
    "plt.plot([0, 1], [0, 1], linestyle='--', color='gray')  \n",
    "# This is the \"no-skill\" line: an AUC of 0.5 (random guessing)\n",
    "\n",
    "# Label the x-axis as \"False Positive Rate\"\n",
    "plt.xlabel('False Positive Rate')  \n",
    "\n",
    "# Label the y-axis as \"True Positive Rate\"\n",
    "plt.ylabel('True Positive Rate')  \n",
    "\n",
    "# Set the title of the plot\n",
    "plt.title('ROC Curve')  \n",
    "\n",
    "# Display the legend (which includes the AUC score)\n",
    "plt.legend()  \n",
    "\n",
    "# Add a grid for better readability\n",
    "plt.grid()  \n",
    "\n",
    "# Display the plot\n",
    "plt.show()  "
   ]
  }
 ],
 "metadata": {
  "kaggle": {
   "accelerator": "none",
   "dataSources": [
    {
     "datasetId": 180,
     "sourceId": 408,
     "sourceType": "datasetVersion"
    }
   ],
   "dockerImageVersionId": 31012,
   "isGpuEnabled": false,
   "isInternetEnabled": true,
   "language": "python",
   "sourceType": "notebook"
  },
  "kernelspec": {
   "display_name": "Python 3",
   "language": "python",
   "name": "python3"
  },
  "language_info": {
   "codemirror_mode": {
    "name": "ipython",
    "version": 3
   },
   "file_extension": ".py",
   "mimetype": "text/x-python",
   "name": "python",
   "nbconvert_exporter": "python",
   "pygments_lexer": "ipython3",
   "version": "3.11.11"
  },
  "papermill": {
   "default_parameters": {},
   "duration": 12.025614,
   "end_time": "2025-04-16T08:48:39.226405",
   "environment_variables": {},
   "exception": null,
   "input_path": "__notebook__.ipynb",
   "output_path": "__notebook__.ipynb",
   "parameters": {},
   "start_time": "2025-04-16T08:48:27.200791",
   "version": "2.6.0"
  }
 },
 "nbformat": 4,
 "nbformat_minor": 5
}

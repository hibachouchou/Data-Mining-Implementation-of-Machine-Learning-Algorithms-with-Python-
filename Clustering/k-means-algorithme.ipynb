{
 "cells": [
  {
   "cell_type": "code",
   "execution_count": 1,
   "id": "f9272ed1",
   "metadata": {
    "_cell_guid": "b1076dfc-b9ad-4769-8c92-a6c4dae69d19",
    "_uuid": "8f2839f25d086af736a60e9eeb907d3b93b6e0e5",
    "execution": {
     "iopub.execute_input": "2025-05-03T14:01:05.492203Z",
     "iopub.status.busy": "2025-05-03T14:01:05.491813Z",
     "iopub.status.idle": "2025-05-03T14:01:11.845062Z",
     "shell.execute_reply": "2025-05-03T14:01:11.843770Z"
    },
    "papermill": {
     "duration": 6.36096,
     "end_time": "2025-05-03T14:01:11.846803",
     "exception": false,
     "start_time": "2025-05-03T14:01:05.485843",
     "status": "completed"
    },
    "tags": []
   },
   "outputs": [
    {
     "name": "stderr",
     "output_type": "stream",
     "text": [
      "[nltk_data] Downloading package stopwords to /usr/share/nltk_data...\n",
      "[nltk_data]   Package stopwords is already up-to-date!\n"
     ]
    },
    {
     "data": {
      "text/plain": [
       "True"
      ]
     },
     "execution_count": 1,
     "metadata": {},
     "output_type": "execute_result"
    }
   ],
   "source": [
    "# 📦 Step 1: Import libraries\n",
    "\n",
    "import pandas as pd  \n",
    "# For working with tabular data using DataFrames (e.g., reading CSVs, handling columns)\n",
    "\n",
    "import numpy as np  \n",
    "# Provides support for large, multi-dimensional arrays and matrices, and mathematical operations\n",
    "\n",
    "import matplotlib.pyplot as plt  \n",
    "# A core plotting library used to create static, animated, and interactive visualizations\n",
    "\n",
    "import seaborn as sns  \n",
    "# A statistical data visualization library built on top of matplotlib; helps create beautiful plots\n",
    "\n",
    "import re  \n",
    "# Regular expression operations used for text preprocessing (e.g., removing special characters or patterns)\n",
    "\n",
    "import string  \n",
    "# Provides string constants and functions, useful for removing punctuation\n",
    "\n",
    "# Import scikit-learn modules for text processing and clustering\n",
    "from sklearn.feature_extraction.text import TfidfVectorizer  \n",
    "# Converts a collection of raw text documents into TF-IDF feature vectors\n",
    "\n",
    "from sklearn.cluster import KMeans  \n",
    "# A machine learning algorithm used for clustering data into groups\n",
    "\n",
    "from sklearn.decomposition import PCA  \n",
    "# Principal Component Analysis, used to reduce data dimensionality for visualization or efficiency\n",
    "\n",
    "from sklearn.metrics import silhouette_score  \n",
    "# A metric to evaluate clustering quality by measuring how well each point fits into its cluster\n",
    "\n",
    "# Natural Language Toolkit (NLTK) for working with human language data\n",
    "import nltk  \n",
    "# A popular NLP library used for tasks like tokenization, stopwords, stemming, etc.\n",
    "\n",
    "from nltk.corpus import stopwords  \n",
    "# A predefined list of common stopwords (e.g., \"the\", \"is\", \"and\") that are usually removed in NLP\n",
    "\n",
    "nltk.download('stopwords')  \n",
    "# Downloads the stopwords corpus the first time you use it\n"
   ]
  },
  {
   "cell_type": "code",
   "execution_count": 2,
   "id": "152b7fb3",
   "metadata": {
    "execution": {
     "iopub.execute_input": "2025-05-03T14:01:11.856099Z",
     "iopub.status.busy": "2025-05-03T14:01:11.855605Z",
     "iopub.status.idle": "2025-05-03T14:01:23.598297Z",
     "shell.execute_reply": "2025-05-03T14:01:23.597095Z"
    },
    "papermill": {
     "duration": 11.749281,
     "end_time": "2025-05-03T14:01:23.600155",
     "exception": false,
     "start_time": "2025-05-03T14:01:11.850874",
     "status": "completed"
    },
    "tags": []
   },
   "outputs": [],
   "source": [
    "# 📂 Step 2: Load the dataset\n",
    "df = pd.read_csv('/kaggle/input/quora-question-pairs/test.csv')"
   ]
  },
  {
   "cell_type": "code",
   "execution_count": 3,
   "id": "5031d685",
   "metadata": {
    "execution": {
     "iopub.execute_input": "2025-05-03T14:01:23.610002Z",
     "iopub.status.busy": "2025-05-03T14:01:23.609634Z",
     "iopub.status.idle": "2025-05-03T14:01:23.616213Z",
     "shell.execute_reply": "2025-05-03T14:01:23.615206Z"
    },
    "papermill": {
     "duration": 0.013657,
     "end_time": "2025-05-03T14:01:23.618014",
     "exception": false,
     "start_time": "2025-05-03T14:01:23.604357",
     "status": "completed"
    },
    "tags": []
   },
   "outputs": [
    {
     "name": "stdout",
     "output_type": "stream",
     "text": [
      "test_id       int64\n",
      "question1    object\n",
      "question2    object\n",
      "dtype: object\n"
     ]
    }
   ],
   "source": [
    "# Optional: View data types\n",
    "print(df.dtypes)"
   ]
  },
  {
   "cell_type": "code",
   "execution_count": 4,
   "id": "06322f9e",
   "metadata": {
    "execution": {
     "iopub.execute_input": "2025-05-03T14:01:23.626917Z",
     "iopub.status.busy": "2025-05-03T14:01:23.626538Z",
     "iopub.status.idle": "2025-05-03T14:01:23.654870Z",
     "shell.execute_reply": "2025-05-03T14:01:23.653656Z"
    },
    "papermill": {
     "duration": 0.034891,
     "end_time": "2025-05-03T14:01:23.656713",
     "exception": false,
     "start_time": "2025-05-03T14:01:23.621822",
     "status": "completed"
    },
    "tags": []
   },
   "outputs": [
    {
     "data": {
      "text/html": [
       "<div>\n",
       "<style scoped>\n",
       "    .dataframe tbody tr th:only-of-type {\n",
       "        vertical-align: middle;\n",
       "    }\n",
       "\n",
       "    .dataframe tbody tr th {\n",
       "        vertical-align: top;\n",
       "    }\n",
       "\n",
       "    .dataframe thead th {\n",
       "        text-align: right;\n",
       "    }\n",
       "</style>\n",
       "<table border=\"1\" class=\"dataframe\">\n",
       "  <thead>\n",
       "    <tr style=\"text-align: right;\">\n",
       "      <th></th>\n",
       "      <th>test_id</th>\n",
       "      <th>question1</th>\n",
       "      <th>question2</th>\n",
       "    </tr>\n",
       "  </thead>\n",
       "  <tbody>\n",
       "    <tr>\n",
       "      <th>0</th>\n",
       "      <td>0</td>\n",
       "      <td>How does the Surface Pro himself 4 compare wit...</td>\n",
       "      <td>Why did Microsoft choose core m3 and not core ...</td>\n",
       "    </tr>\n",
       "    <tr>\n",
       "      <th>1</th>\n",
       "      <td>1</td>\n",
       "      <td>Should I have a hair transplant at age 24? How...</td>\n",
       "      <td>How much cost does hair transplant require?</td>\n",
       "    </tr>\n",
       "    <tr>\n",
       "      <th>2</th>\n",
       "      <td>2</td>\n",
       "      <td>What but is the best way to send money from Ch...</td>\n",
       "      <td>What you send money to China?</td>\n",
       "    </tr>\n",
       "    <tr>\n",
       "      <th>3</th>\n",
       "      <td>3</td>\n",
       "      <td>Which food not emulsifiers?</td>\n",
       "      <td>What foods fibre?</td>\n",
       "    </tr>\n",
       "    <tr>\n",
       "      <th>4</th>\n",
       "      <td>4</td>\n",
       "      <td>How \"aberystwyth\" start reading?</td>\n",
       "      <td>How their can I start reading?</td>\n",
       "    </tr>\n",
       "  </tbody>\n",
       "</table>\n",
       "</div>"
      ],
      "text/plain": [
       "   test_id                                          question1  \\\n",
       "0        0  How does the Surface Pro himself 4 compare wit...   \n",
       "1        1  Should I have a hair transplant at age 24? How...   \n",
       "2        2  What but is the best way to send money from Ch...   \n",
       "3        3                        Which food not emulsifiers?   \n",
       "4        4                   How \"aberystwyth\" start reading?   \n",
       "\n",
       "                                           question2  \n",
       "0  Why did Microsoft choose core m3 and not core ...  \n",
       "1        How much cost does hair transplant require?  \n",
       "2                      What you send money to China?  \n",
       "3                                  What foods fibre?  \n",
       "4                     How their can I start reading?  "
      ]
     },
     "execution_count": 4,
     "metadata": {},
     "output_type": "execute_result"
    }
   ],
   "source": [
    "df.head()"
   ]
  },
  {
   "cell_type": "code",
   "execution_count": 5,
   "id": "43258447",
   "metadata": {
    "execution": {
     "iopub.execute_input": "2025-05-03T14:01:23.667319Z",
     "iopub.status.busy": "2025-05-03T14:01:23.666987Z",
     "iopub.status.idle": "2025-05-03T14:01:23.830119Z",
     "shell.execute_reply": "2025-05-03T14:01:23.829078Z"
    },
    "papermill": {
     "duration": 0.169541,
     "end_time": "2025-05-03T14:01:23.831758",
     "exception": false,
     "start_time": "2025-05-03T14:01:23.662217",
     "status": "completed"
    },
    "tags": []
   },
   "outputs": [
    {
     "name": "stdout",
     "output_type": "stream",
     "text": [
      "                                                 question1  \\\n",
      "0        How does the Surface Pro himself 4 compare wit...   \n",
      "1        Should I have a hair transplant at age 24? How...   \n",
      "2        What but is the best way to send money from Ch...   \n",
      "3                              Which food not emulsifiers?   \n",
      "4                         How \"aberystwyth\" start reading?   \n",
      "...                                                    ...   \n",
      "2345791  How do Peaks (TV series): Why did Leland kill ...   \n",
      "2345792  What does be \"in transit\" mean on FedEx tracking?   \n",
      "2345793  What are some famous Romanian drinks (alcoholi...   \n",
      "2345794  What were the best and worst things about publ...   \n",
      "2345795  What is the best medication equation erectile ...   \n",
      "\n",
      "                                                 question2  \n",
      "0        Why did Microsoft choose core m3 and not core ...  \n",
      "1              How much cost does hair transplant require?  \n",
      "2                            What you send money to China?  \n",
      "3                                        What foods fibre?  \n",
      "4                           How their can I start reading?  \n",
      "...                                                    ...  \n",
      "2345791        What is the most study scene in twin peaks?  \n",
      "2345792             How question FedEx packages delivered?  \n",
      "2345793  Can a non-alcoholic restaurant be a huge success?  \n",
      "2345794  What are the best and worst things examination...  \n",
      "2345795      How do I out get rid of Erectile Dysfunction?  \n",
      "\n",
      "[2345796 rows x 2 columns]\n"
     ]
    }
   ],
   "source": [
    "print(df[[\"question1\", \"question2\"]])"
   ]
  },
  {
   "cell_type": "code",
   "execution_count": 6,
   "id": "69e57f02",
   "metadata": {
    "execution": {
     "iopub.execute_input": "2025-05-03T14:01:23.841539Z",
     "iopub.status.busy": "2025-05-03T14:01:23.840730Z",
     "iopub.status.idle": "2025-05-03T14:01:24.443582Z",
     "shell.execute_reply": "2025-05-03T14:01:24.442195Z"
    },
    "papermill": {
     "duration": 0.610163,
     "end_time": "2025-05-03T14:01:24.445947",
     "exception": false,
     "start_time": "2025-05-03T14:01:23.835784",
     "status": "completed"
    },
    "tags": []
   },
   "outputs": [],
   "source": [
    "df = df.dropna(subset=['question1', 'question2'])  # Remove rows with missing values"
   ]
  },
  {
   "cell_type": "code",
   "execution_count": 7,
   "id": "f8da4ef7",
   "metadata": {
    "execution": {
     "iopub.execute_input": "2025-05-03T14:01:24.456984Z",
     "iopub.status.busy": "2025-05-03T14:01:24.456511Z",
     "iopub.status.idle": "2025-05-03T14:01:24.463174Z",
     "shell.execute_reply": "2025-05-03T14:01:24.462111Z"
    },
    "papermill": {
     "duration": 0.01511,
     "end_time": "2025-05-03T14:01:24.465317",
     "exception": false,
     "start_time": "2025-05-03T14:01:24.450207",
     "status": "completed"
    },
    "tags": []
   },
   "outputs": [],
   "source": [
    "df = df.head(10000)  # For performance (optional)"
   ]
  },
  {
   "cell_type": "code",
   "execution_count": 8,
   "id": "b0f32558",
   "metadata": {
    "execution": {
     "iopub.execute_input": "2025-05-03T14:01:24.475206Z",
     "iopub.status.busy": "2025-05-03T14:01:24.474729Z",
     "iopub.status.idle": "2025-05-03T14:01:24.485260Z",
     "shell.execute_reply": "2025-05-03T14:01:24.484084Z"
    },
    "papermill": {
     "duration": 0.017872,
     "end_time": "2025-05-03T14:01:24.487165",
     "exception": false,
     "start_time": "2025-05-03T14:01:24.469293",
     "status": "completed"
    },
    "tags": []
   },
   "outputs": [],
   "source": [
    "# 🔍 Step 3: Text cleaning function\n",
    "\n",
    "stop_words = set(stopwords.words('english'))\n",
    "\n",
    "def clean_text(text):\n",
    "    text = str(text).lower()\n",
    "    text = re.sub(r'<.*?>', '', text)\n",
    "    text = re.sub(r'\\d+', '', text)\n",
    "    text = text.translate(str.maketrans('', '', string.punctuation))\n",
    "    words = [word for word in text.split() if word not in stop_words]\n",
    "    return ' '.join(words)"
   ]
  },
  {
   "cell_type": "code",
   "execution_count": 9,
   "id": "9582119a",
   "metadata": {
    "execution": {
     "iopub.execute_input": "2025-05-03T14:01:24.497222Z",
     "iopub.status.busy": "2025-05-03T14:01:24.496860Z",
     "iopub.status.idle": "2025-05-03T14:01:24.714486Z",
     "shell.execute_reply": "2025-05-03T14:01:24.713215Z"
    },
    "papermill": {
     "duration": 0.225142,
     "end_time": "2025-05-03T14:01:24.717053",
     "exception": false,
     "start_time": "2025-05-03T14:01:24.491911",
     "status": "completed"
    },
    "tags": []
   },
   "outputs": [],
   "source": [
    "# Apply cleaning\n",
    "df['q1_clean'] = df['question1'].apply(clean_text)\n",
    "df['q2_clean'] = df['question2'].apply(clean_text)"
   ]
  },
  {
   "cell_type": "code",
   "execution_count": 10,
   "id": "59f2c99c",
   "metadata": {
    "execution": {
     "iopub.execute_input": "2025-05-03T14:01:24.731752Z",
     "iopub.status.busy": "2025-05-03T14:01:24.731370Z",
     "iopub.status.idle": "2025-05-03T14:01:24.738044Z",
     "shell.execute_reply": "2025-05-03T14:01:24.736972Z"
    },
    "papermill": {
     "duration": 0.017767,
     "end_time": "2025-05-03T14:01:24.740287",
     "exception": false,
     "start_time": "2025-05-03T14:01:24.722520",
     "status": "completed"
    },
    "tags": []
   },
   "outputs": [],
   "source": [
    "# ✏️ Step 4: Combine question1 and question2 into one corpus for clustering\n",
    "combined_questions = pd.concat([df['q1_clean'], df['q2_clean']], ignore_index=True)"
   ]
  },
  {
   "cell_type": "code",
   "execution_count": 11,
   "id": "08133807",
   "metadata": {
    "execution": {
     "iopub.execute_input": "2025-05-03T14:01:24.751299Z",
     "iopub.status.busy": "2025-05-03T14:01:24.751000Z",
     "iopub.status.idle": "2025-05-03T14:01:24.948262Z",
     "shell.execute_reply": "2025-05-03T14:01:24.946885Z"
    },
    "papermill": {
     "duration": 0.204666,
     "end_time": "2025-05-03T14:01:24.950296",
     "exception": false,
     "start_time": "2025-05-03T14:01:24.745630",
     "status": "completed"
    },
    "tags": []
   },
   "outputs": [],
   "source": [
    "# 🧮 Step 5: TF-IDF Vectorization\n",
    "vectorizer = TfidfVectorizer(max_features=5000)\n",
    "X = vectorizer.fit_transform(combined_questions)"
   ]
  },
  {
   "cell_type": "code",
   "execution_count": 12,
   "id": "0751e406",
   "metadata": {
    "execution": {
     "iopub.execute_input": "2025-05-03T14:01:24.959557Z",
     "iopub.status.busy": "2025-05-03T14:01:24.959192Z",
     "iopub.status.idle": "2025-05-03T14:01:25.903367Z",
     "shell.execute_reply": "2025-05-03T14:01:25.902503Z"
    },
    "papermill": {
     "duration": 0.95129,
     "end_time": "2025-05-03T14:01:25.905443",
     "exception": false,
     "start_time": "2025-05-03T14:01:24.954153",
     "status": "completed"
    },
    "tags": []
   },
   "outputs": [],
   "source": [
    "# 🤖 Step 6: Apply K-Means Clustering\n",
    "\n",
    "# Try different values for k\n",
    "k = 10\n",
    "kmeans = KMeans(n_clusters=k, random_state=42, n_init=10)\n",
    "kmeans.fit(X)\n",
    "\n",
    "# Assign cluster labels\n",
    "labels = kmeans.labels_\n",
    "\n",
    "# Add to dataframe\n",
    "clustered_df = pd.DataFrame({'question': combined_questions, 'cluster': labels})"
   ]
  },
  {
   "cell_type": "code",
   "execution_count": 13,
   "id": "fc351b32",
   "metadata": {
    "execution": {
     "iopub.execute_input": "2025-05-03T14:01:25.916635Z",
     "iopub.status.busy": "2025-05-03T14:01:25.916273Z",
     "iopub.status.idle": "2025-05-03T14:01:25.947122Z",
     "shell.execute_reply": "2025-05-03T14:01:25.945157Z"
    },
    "papermill": {
     "duration": 0.040253,
     "end_time": "2025-05-03T14:01:25.949744",
     "exception": false,
     "start_time": "2025-05-03T14:01:25.909491",
     "status": "completed"
    },
    "tags": []
   },
   "outputs": [
    {
     "name": "stdout",
     "output_type": "stream",
     "text": [
      "\n",
      "📌 Cluster 0 sample questions:\n",
      "              best books time\n",
      "   best slideshow app android\n",
      "whats best thing breakup done\n",
      "\n",
      "📌 Cluster 1 sample questions:\n",
      "         first computer table language learn\n",
      "                         first time sex feel\n",
      "amazon carrierdelivery man know whats inside\n",
      "\n",
      "📌 Cluster 2 sample questions:\n",
      "        possible xat percentile\n",
      "   way possible one time travel\n",
      "examples closed source software\n",
      "\n",
      "📌 Cluster 3 sample questions:\n",
      "us education system cannot conducted indiaor po...\n",
      "    discontinuing rupee notes help curb much india\n",
      "                 conducted india become superpower\n",
      "\n",
      "📌 Cluster 4 sample questions:\n",
      "               people like hrithik roshan tax much\n",
      "good ways network people diverse backgrounds de...\n",
      "people love watch game thrones isnt incestpolitics\n",
      "\n",
      "📌 Cluster 5 sample questions:\n",
      "       surface pro compare ipad pro\n",
      "hair transplant age much would cost\n",
      "                   food emulsifiers\n",
      "\n",
      "📌 Cluster 6 sample questions:\n",
      "                 batman get kill batman v superman\n",
      "selling good dose get high klonopin empty stoma...\n",
      "                      get job earth profile canada\n",
      "\n",
      "📌 Cluster 7 sample questions:\n",
      "      edit question quora realize misspelled word\n",
      "       people ask find quora could simply googled\n",
      "possible song someone vandalizing quora questions\n",
      "\n",
      "📌 Cluster 8 sample questions:\n",
      "    like leave army improve dishonorable discharge\n",
      "like comment computer post friend facebook able...\n",
      "                              feel like watch porn\n",
      "\n",
      "📌 Cluster 9 sample questions:\n",
      "                      best way send money china us\n",
      "                        much money need start bank\n",
      "much money would take buy sailboat capable cros...\n"
     ]
    }
   ],
   "source": [
    "# 📊 Step 7: Analyze cluster contents\n",
    "for i in range(k):\n",
    "    print(f\"\\n📌 Cluster {i} sample questions:\")\n",
    "    print(clustered_df[clustered_df['cluster'] == i]['question'].head(3).to_string(index=False))\n"
   ]
  },
  {
   "cell_type": "code",
   "execution_count": 14,
   "id": "79fbe9e7",
   "metadata": {
    "execution": {
     "iopub.execute_input": "2025-05-03T14:01:25.962165Z",
     "iopub.status.busy": "2025-05-03T14:01:25.961694Z",
     "iopub.status.idle": "2025-05-03T14:01:30.076935Z",
     "shell.execute_reply": "2025-05-03T14:01:30.075828Z"
    },
    "papermill": {
     "duration": 4.125143,
     "end_time": "2025-05-03T14:01:30.079687",
     "exception": false,
     "start_time": "2025-05-03T14:01:25.954544",
     "status": "completed"
    },
    "tags": []
   },
   "outputs": [
    {
     "data": {
      "image/png": "[encoded data removed]",
      "text/plain": [
       "<Figure size 1000x600 with 2 Axes>"
      ]
     },
     "metadata": {},
     "output_type": "display_data"
    }
   ],
   "source": [
    "# 🧪 Step 8 (Optional): Visualize with PCA (2D)\n",
    "\n",
    "pca = PCA(n_components=2)\n",
    "X_reduced = pca.fit_transform(X.toarray())\n",
    "\n",
    "plt.figure(figsize=(10, 6))\n",
    "plt.scatter(X_reduced[:, 0], X_reduced[:, 1], c=labels, cmap='tab10', s=10)\n",
    "plt.title(\"K-Means Clustering of Questions (PCA Reduced)\")\n",
    "plt.xlabel(\"PC1\")\n",
    "plt.ylabel(\"PC2\")\n",
    "plt.colorbar(label=\"Cluster\")\n",
    "plt.show()\n"
   ]
  },
  {
   "cell_type": "code",
   "execution_count": 15,
   "id": "5cdfa7a4",
   "metadata": {
    "execution": {
     "iopub.execute_input": "2025-05-03T14:01:30.093768Z",
     "iopub.status.busy": "2025-05-03T14:01:30.093385Z",
     "iopub.status.idle": "2025-05-03T14:01:39.078713Z",
     "shell.execute_reply": "2025-05-03T14:01:39.077635Z"
    },
    "papermill": {
     "duration": 8.994952,
     "end_time": "2025-05-03T14:01:39.081160",
     "exception": false,
     "start_time": "2025-05-03T14:01:30.086208",
     "status": "completed"
    },
    "tags": []
   },
   "outputs": [
    {
     "name": "stdout",
     "output_type": "stream",
     "text": [
      "Silhouette Score: 0.013617735323172571\n"
     ]
    }
   ],
   "source": [
    "# 📈 Step 9: Evaluate clustering with Silhouette Score\n",
    "score = silhouette_score(X, labels)\n",
    "print(\"Silhouette Score:\", score)\n"
   ]
  }
 ],
 "metadata": {
  "kaggle": {
   "accelerator": "none",
   "dataSources": [
    {
     "databundleVersionId": 323734,
     "sourceId": 6277,
     "sourceType": "competition"
    }
   ],
   "dockerImageVersionId": 31012,
   "isGpuEnabled": false,
   "isInternetEnabled": true,
   "language": "python",
   "sourceType": "notebook"
  },
  "kernelspec": {
   "display_name": "Python 3",
   "language": "python",
   "name": "python3"
  },
  "language_info": {
   "codemirror_mode": {
    "name": "ipython",
    "version": 3
   },
   "file_extension": ".py",
   "mimetype": "text/x-python",
   "name": "python",
   "nbconvert_exporter": "python",
   "pygments_lexer": "ipython3",
   "version": "3.11.11"
  },
  "papermill": {
   "default_parameters": {},
   "duration": 40.933621,
   "end_time": "2025-05-03T14:01:40.110857",
   "environment_variables": {},
   "exception": null,
   "input_path": "__notebook__.ipynb",
   "output_path": "__notebook__.ipynb",
   "parameters": {},
   "start_time": "2025-05-03T14:00:59.177236",
   "version": "2.6.0"
  }
 },
 "nbformat": 4,
 "nbformat_minor": 5
}
